{
 "cells": [
  {
   "cell_type": "code",
   "execution_count": 15,
   "metadata": {
    "collapsed": false
   },
   "outputs": [
    {
     "name": "stdout",
     "output_type": "stream",
     "text": [
      "getParameters is ['precip1Hour', 'tempFromTenths', 'precip24Hour', 'seaLevelPress', 'pressChange3Hour', 'temperature', 'dpFromTenths', 'reportType', 'pressChangeChar', 'elevation', 'precip3Hour', 'dewpoint', 'visibility', 'timeObs', 'maxTemp24Hour', 'stationName', 'altimeter', 'autoStationType', 'wmoId', 'windDir', 'windSpeed', 'minTemp24Hour', 'windGust', 'precip6Hour']\n",
      "24\n",
      "KBJC from Mar 15 16 22:46:00 GMT\n",
      "stationName is KBJC\n",
      "timeObs is 1458081960000\n",
      "wmoId is -9999\n",
      "autoStationType is \n",
      "elevation is 1729.0\n",
      "reportType is METAR\n",
      "temperature is 7.0\n",
      "tempFromTenths is -9999.0\n",
      "dewpoint is -12.0\n",
      "dpFromTenths is -9999.0\n",
      "windDir is 230.0\n",
      "windSpeed is 15.0\n",
      "windGust is 25.0\n",
      "visibility is 60.0\n",
      "altimeter is 29.9599990845\n",
      "seaLevelPress is -9999.0\n",
      "pressChange3Hour is -9999.0\n",
      "pressChangeChar is \n",
      "maxTemp24Hour is -9999.0\n",
      "minTemp24Hour is -9999.0\n",
      "precip1Hour is -9999.0\n",
      "precip3Hour is -9999.0\n",
      "precip6Hour is -9999.0\n",
      "precip24Hour is -9999.0\n"
     ]
    }
   ],
   "source": [
    "from awips.dataaccess import DataAccessLayer\n",
    "\n",
    "# Set host\n",
    "DataAccessLayer.changeEDEXHost(\"edex-cloud.unidata.ucar.edu\")\n",
    "# Init data request\n",
    "request = DataAccessLayer.newDataRequest()\n",
    "request.setDatatype(\"obs\")\n",
    "request.setLocationNames(\"KBJC\")\n",
    "datatimes = DataAccessLayer.getAvailableTimes(request)\n",
    "time = datatimes[-1].validPeriod\n",
    "\n",
    "# \"presWeather\",\"skyCover\",\"skyLayerBase\"\n",
    "# are multi-dimensional... deal with these later\n",
    "request.setParameters(\n",
    "    \"stationName\",\n",
    "    \"timeObs\",\n",
    "    \"wmoId\",\n",
    "    \"autoStationType\",\n",
    "    \"elevation\",\n",
    "    \"reportType\",\n",
    "    \"temperature\",\n",
    "    \"tempFromTenths\",\n",
    "    \"dewpoint\",\n",
    "    \"dpFromTenths\",\n",
    "    \"windDir\",\n",
    "    \"windSpeed\",\n",
    "    \"windGust\",\n",
    "    \"visibility\",\n",
    "    \"altimeter\",\n",
    "    \"seaLevelPress\",\n",
    "    \"pressChange3Hour\",\n",
    "    \"pressChangeChar\",\n",
    "    \"maxTemp24Hour\",\n",
    "    \"minTemp24Hour\",\n",
    "    \"precip1Hour\",\n",
    "    \"precip3Hour\",\n",
    "    \"precip6Hour\",\n",
    "    \"precip24Hour\"\n",
    ")\n",
    "\n",
    "response = DataAccessLayer.getGeometryData(request,times=time)\n",
    "for ob in response:\n",
    "    print \"getParameters is\",ob.getParameters()\n",
    "    print len(ob.getParameters())\n",
    "    #getParameters\n",
    "    print ob.getString(\"stationName\"), \"from\", ob.getDataTime().getRefTime()\n",
    "    print \"stationName is\",ob.getString(\"stationName\")\n",
    "    print \"timeObs is\",ob.getString(\"timeObs\")\n",
    "    print \"wmoId is\",ob.getString(\"wmoId\")\n",
    "    print \"autoStationType is\",ob.getString(\"autoStationType\")\n",
    "    print \"elevation is\",ob.getString(\"elevation\")\n",
    "    print \"reportType is\",ob.getString(\"reportType\")\n",
    "    print \"temperature is\",ob.getString(\"temperature\")\n",
    "    print \"tempFromTenths is\",ob.getString(\"tempFromTenths\")\n",
    "    print \"dewpoint is\",ob.getString(\"dewpoint\")\n",
    "    print \"dpFromTenths is\",ob.getString(\"dpFromTenths\")\n",
    "    print \"windDir is\",ob.getString(\"windDir\")\n",
    "    print \"windSpeed is\",ob.getString(\"windSpeed\")\n",
    "    print \"windGust is\",ob.getString(\"windGust\")\n",
    "    print \"visibility is\",ob.getString(\"visibility\")\n",
    "    print \"altimeter is\",ob.getString(\"altimeter\")\n",
    "    print \"seaLevelPress is\",ob.getString(\"seaLevelPress\")\n",
    "    print \"pressChange3Hour is\",ob.getString(\"pressChange3Hour\")\n",
    "    print \"pressChangeChar is\",ob.getString(\"pressChangeChar\")\n",
    "    print \"maxTemp24Hour is\",ob.getString(\"maxTemp24Hour\")\n",
    "    print \"minTemp24Hour is\",ob.getString(\"minTemp24Hour\")\n",
    "    print \"precip1Hour is\",ob.getString(\"precip1Hour\")\n",
    "    print \"precip3Hour is\",ob.getString(\"precip3Hour\")\n",
    "    print \"precip6Hour is\",ob.getString(\"precip6Hour\")\n",
    "    print \"precip24Hour is\",ob.getString(\"precip24Hour\")"
   ]
  },
  {
   "cell_type": "code",
   "execution_count": 9,
   "metadata": {
    "collapsed": false
   },
   "outputs": [
    {
     "name": "stdout",
     "output_type": "stream",
     "text": [
      "getParameters is ['presWeather']\n",
      "VCSH\n",
      "getParameters is ['presWeather']\n",
      "\n",
      "getParameters is ['presWeather']\n",
      "\n",
      "getParameters is ['presWeather']\n",
      "\n",
      "getParameters is ['presWeather']\n",
      "\n",
      "FEW\n",
      "8000.0\n",
      "SCT\n",
      "12000.0\n",
      "BKN\n",
      "20000.0\n",
      "\n",
      "-9999.0\n",
      "\n",
      "-9999.0\n",
      "\n",
      "-9999.0\n"
     ]
    }
   ],
   "source": [
    "# multi-dimensional present WX\n",
    "request = DataAccessLayer.newDataRequest()\n",
    "request.setDatatype(\"obs\")\n",
    "request.setLocationNames(\"KBJC\")\n",
    "request.setParameters(\"presWeather\")\n",
    "response = DataAccessLayer.getGeometryData(request,times=time)\n",
    "for ob in response:\n",
    "    print \"getParameters is\",ob.getParameters()\n",
    "    print ob.getString(\"presWeather\")\n",
    "\n",
    "\n",
    "# multi-dimensional Sky Condition\n",
    "request.setParameters(\"skyCover\", \"skyLayerBase\")\n",
    "response = DataAccessLayer.getGeometryData(request,times=time)\n",
    "for ob in response:\n",
    "    print ob.getString(\"skyCover\")\n",
    "    print ob.getString(\"skyLayerBase\")"
   ]
  },
  {
   "cell_type": "markdown",
   "metadata": {},
   "source": [
    "## Synop/Marine"
   ]
  },
  {
   "cell_type": "code",
   "execution_count": 30,
   "metadata": {
    "collapsed": false
   },
   "outputs": [
    {
     "name": "stdout",
     "output_type": "stream",
     "text": [
      "[<awips.dataaccess.PyGeometryData.PyGeometryData object at 0x7f1b404f3310>]\n",
      "getParameters is ['windDir', 'pressChange3Hour', 'elevation', 'temperature', 'wetBulb', 'wx_present', 'stationPress', 'visibility', 'dewpoint', 'stationId', 'precip1Hour', 'equivWindSpeed10m', 'windSpeed', 'pressChangeChar', 'windGust', 'timeObs', 'reportType', 'precip6Hour', 'precip24Hour', 'seaSurfaceTemp', 'seaLevelPress']\n",
      "21\n"
     ]
    }
   ],
   "source": [
    "from awips.dataaccess import DataAccessLayer\n",
    "\n",
    "DataAccessLayer.changeEDEXHost(\"edex-cloud.unidata.ucar.edu\")\n",
    "request = DataAccessLayer.newDataRequest()\n",
    "request.setDatatype(\"sfcobs\")\n",
    "request.setLocationNames(\"72421\") # Covington, Kentucky (KCVG)\n",
    "\n",
    "request.setParameters(\"stationId\",\"timeObs\",\"elevation\",\"reportType\",\n",
    "                  \"wx_present\",\"visibility\",\"seaLevelPress\",\"stationPress\",\n",
    "                  \"pressChange3Hour\",\"pressChangeChar\",\"temperature\",\n",
    "                  \"dewpoint\",\"seaSurfaceTemp\",\"wetBulb\",\"windDir\",\n",
    "                  \"windSpeed\",\"equivWindSpeed10m\",\"windGust\",\"precip1Hour\",\n",
    "                  \"precip6Hour\",\"precip24Hour\" )\n",
    "\n",
    "datatimes = DataAccessLayer.getAvailableTimes(request)\n",
    "time = datatimes[-1].validPeriod\n",
    "\n",
    "response = DataAccessLayer.getGeometryData(request,times=time)\n",
    "print response\n",
    "for ob in response:\n",
    "    print \"getParameters is\",ob.getParameters()\n",
    "    print len(ob.getParameters())\n"
   ]
  },
  {
   "cell_type": "markdown",
   "metadata": {},
   "source": [
    "## Profiler"
   ]
  },
  {
   "cell_type": "code",
   "execution_count": 31,
   "metadata": {
    "collapsed": false
   },
   "outputs": [
    {
     "name": "stdout",
     "output_type": "stream",
     "text": [
      "[<awips.dataaccess.PyGeometryData.PyGeometryData object at 0x7f1b4481b390>, <awips.dataaccess.PyGeometryData.PyGeometryData object at 0x7f1b40510ad0>, <awips.dataaccess.PyGeometryData.PyGeometryData object at 0x7f1b279852d0>, <awips.dataaccess.PyGeometryData.PyGeometryData object at 0x7f1b27985310>, <awips.dataaccess.PyGeometryData.PyGeometryData object at 0x7f1b279853d0>, <awips.dataaccess.PyGeometryData.PyGeometryData object at 0x7f1b27985410>, <awips.dataaccess.PyGeometryData.PyGeometryData object at 0x7f1b27985450>, <awips.dataaccess.PyGeometryData.PyGeometryData object at 0x7f1b27985490>, <awips.dataaccess.PyGeometryData.PyGeometryData object at 0x7f1b279854d0>, <awips.dataaccess.PyGeometryData.PyGeometryData object at 0x7f1b27985510>, <awips.dataaccess.PyGeometryData.PyGeometryData object at 0x7f1b27985550>, <awips.dataaccess.PyGeometryData.PyGeometryData object at 0x7f1b27985590>, <awips.dataaccess.PyGeometryData.PyGeometryData object at 0x7f1b279855d0>, <awips.dataaccess.PyGeometryData.PyGeometryData object at 0x7f1b27985610>, <awips.dataaccess.PyGeometryData.PyGeometryData object at 0x7f1b27985650>, <awips.dataaccess.PyGeometryData.PyGeometryData object at 0x7f1b27985690>, <awips.dataaccess.PyGeometryData.PyGeometryData object at 0x7f1b279856d0>, <awips.dataaccess.PyGeometryData.PyGeometryData object at 0x7f1b27985710>, <awips.dataaccess.PyGeometryData.PyGeometryData object at 0x7f1b27985750>, <awips.dataaccess.PyGeometryData.PyGeometryData object at 0x7f1b27985790>, <awips.dataaccess.PyGeometryData.PyGeometryData object at 0x7f1b279857d0>, <awips.dataaccess.PyGeometryData.PyGeometryData object at 0x7f1b27985810>, <awips.dataaccess.PyGeometryData.PyGeometryData object at 0x7f1b27985850>, <awips.dataaccess.PyGeometryData.PyGeometryData object at 0x7f1b27985890>, <awips.dataaccess.PyGeometryData.PyGeometryData object at 0x7f1b279858d0>, <awips.dataaccess.PyGeometryData.PyGeometryData object at 0x7f1b27985910>, <awips.dataaccess.PyGeometryData.PyGeometryData object at 0x7f1b27985950>, <awips.dataaccess.PyGeometryData.PyGeometryData object at 0x7f1b27985990>, <awips.dataaccess.PyGeometryData.PyGeometryData object at 0x7f1b279859d0>, <awips.dataaccess.PyGeometryData.PyGeometryData object at 0x7f1b27985a10>, <awips.dataaccess.PyGeometryData.PyGeometryData object at 0x7f1b27985a50>, <awips.dataaccess.PyGeometryData.PyGeometryData object at 0x7f1b27985a90>, <awips.dataaccess.PyGeometryData.PyGeometryData object at 0x7f1b3018ab50>, <awips.dataaccess.PyGeometryData.PyGeometryData object at 0x7f1b4053b6d0>, <awips.dataaccess.PyGeometryData.PyGeometryData object at 0x7f1b27985ad0>, <awips.dataaccess.PyGeometryData.PyGeometryData object at 0x7f1b27985b10>, <awips.dataaccess.PyGeometryData.PyGeometryData object at 0x7f1b27985b50>, <awips.dataaccess.PyGeometryData.PyGeometryData object at 0x7f1b27985b90>]\n",
      "getParameters is ['vComponent', 'uComponent', 'peakPower', 'levelMode', 'uvQualityCode', 'consensusNum', 'HorizSpStdDev', 'wComponent', 'height', 'VertSpStdDev']\n",
      "10\n",
      "getParameters is ['vComponent', 'uComponent', 'peakPower', 'levelMode', 'uvQualityCode', 'consensusNum', 'HorizSpStdDev', 'wComponent', 'height', 'VertSpStdDev']\n",
      "10\n",
      "getParameters is ['vComponent', 'uComponent', 'peakPower', 'levelMode', 'uvQualityCode', 'consensusNum', 'HorizSpStdDev', 'wComponent', 'height', 'VertSpStdDev']\n",
      "10\n",
      "getParameters is ['vComponent', 'uComponent', 'peakPower', 'levelMode', 'uvQualityCode', 'consensusNum', 'HorizSpStdDev', 'wComponent', 'height', 'VertSpStdDev']\n",
      "10\n",
      "getParameters is ['vComponent', 'uComponent', 'peakPower', 'levelMode', 'uvQualityCode', 'consensusNum', 'HorizSpStdDev', 'wComponent', 'height', 'VertSpStdDev']\n",
      "10\n",
      "getParameters is ['vComponent', 'uComponent', 'peakPower', 'levelMode', 'uvQualityCode', 'consensusNum', 'HorizSpStdDev', 'wComponent', 'height', 'VertSpStdDev']\n",
      "10\n",
      "getParameters is ['vComponent', 'uComponent', 'peakPower', 'levelMode', 'uvQualityCode', 'consensusNum', 'HorizSpStdDev', 'wComponent', 'height', 'VertSpStdDev']\n",
      "10\n",
      "getParameters is ['vComponent', 'uComponent', 'peakPower', 'levelMode', 'uvQualityCode', 'consensusNum', 'HorizSpStdDev', 'wComponent', 'height', 'VertSpStdDev']\n",
      "10\n",
      "getParameters is ['vComponent', 'uComponent', 'peakPower', 'levelMode', 'uvQualityCode', 'consensusNum', 'HorizSpStdDev', 'wComponent', 'height', 'VertSpStdDev']\n",
      "10\n",
      "getParameters is ['vComponent', 'uComponent', 'peakPower', 'levelMode', 'uvQualityCode', 'consensusNum', 'HorizSpStdDev', 'wComponent', 'height', 'VertSpStdDev']\n",
      "10\n",
      "getParameters is ['vComponent', 'uComponent', 'peakPower', 'levelMode', 'uvQualityCode', 'consensusNum', 'HorizSpStdDev', 'wComponent', 'height', 'VertSpStdDev']\n",
      "10\n",
      "getParameters is ['vComponent', 'uComponent', 'peakPower', 'levelMode', 'uvQualityCode', 'consensusNum', 'HorizSpStdDev', 'wComponent', 'height', 'VertSpStdDev']\n",
      "10\n",
      "getParameters is ['vComponent', 'uComponent', 'peakPower', 'levelMode', 'uvQualityCode', 'consensusNum', 'HorizSpStdDev', 'wComponent', 'height', 'VertSpStdDev']\n",
      "10\n",
      "getParameters is ['vComponent', 'uComponent', 'peakPower', 'levelMode', 'uvQualityCode', 'consensusNum', 'HorizSpStdDev', 'wComponent', 'height', 'VertSpStdDev']\n",
      "10\n",
      "getParameters is ['vComponent', 'uComponent', 'peakPower', 'levelMode', 'uvQualityCode', 'consensusNum', 'HorizSpStdDev', 'wComponent', 'height', 'VertSpStdDev']\n",
      "10\n",
      "getParameters is ['vComponent', 'uComponent', 'peakPower', 'levelMode', 'uvQualityCode', 'consensusNum', 'HorizSpStdDev', 'wComponent', 'height', 'VertSpStdDev']\n",
      "10\n",
      "getParameters is ['vComponent', 'uComponent', 'peakPower', 'levelMode', 'uvQualityCode', 'consensusNum', 'HorizSpStdDev', 'wComponent', 'height', 'VertSpStdDev']\n",
      "10\n",
      "getParameters is ['numProfLvls', 'elevation', 'windDirSfc', 'validTime', 'windSpeedSfc', 'pressure', 'submode', 'relHumidity', 'profilerId', 'rainRate', 'temperature']\n",
      "11\n",
      "getParameters is ['vComponent', 'uComponent', 'peakPower', 'levelMode', 'uvQualityCode', 'consensusNum', 'HorizSpStdDev', 'wComponent', 'height', 'VertSpStdDev']\n",
      "10\n",
      "getParameters is ['vComponent', 'uComponent', 'peakPower', 'levelMode', 'uvQualityCode', 'consensusNum', 'HorizSpStdDev', 'wComponent', 'height', 'VertSpStdDev']\n",
      "10\n",
      "getParameters is ['vComponent', 'uComponent', 'peakPower', 'levelMode', 'uvQualityCode', 'consensusNum', 'HorizSpStdDev', 'wComponent', 'height', 'VertSpStdDev']\n",
      "10\n",
      "getParameters is ['vComponent', 'uComponent', 'peakPower', 'levelMode', 'uvQualityCode', 'consensusNum', 'HorizSpStdDev', 'wComponent', 'height', 'VertSpStdDev']\n",
      "10\n",
      "getParameters is ['vComponent', 'uComponent', 'peakPower', 'levelMode', 'uvQualityCode', 'consensusNum', 'HorizSpStdDev', 'wComponent', 'height', 'VertSpStdDev']\n",
      "10\n",
      "getParameters is ['vComponent', 'uComponent', 'peakPower', 'levelMode', 'uvQualityCode', 'consensusNum', 'HorizSpStdDev', 'wComponent', 'height', 'VertSpStdDev']\n",
      "10\n",
      "getParameters is ['vComponent', 'uComponent', 'peakPower', 'levelMode', 'uvQualityCode', 'consensusNum', 'HorizSpStdDev', 'wComponent', 'height', 'VertSpStdDev']\n",
      "10\n",
      "getParameters is ['vComponent', 'uComponent', 'peakPower', 'levelMode', 'uvQualityCode', 'consensusNum', 'HorizSpStdDev', 'wComponent', 'height', 'VertSpStdDev']\n",
      "10\n",
      "getParameters is ['vComponent', 'uComponent', 'peakPower', 'levelMode', 'uvQualityCode', 'consensusNum', 'HorizSpStdDev', 'wComponent', 'height', 'VertSpStdDev']\n",
      "10\n",
      "getParameters is ['vComponent', 'uComponent', 'peakPower', 'levelMode', 'uvQualityCode', 'consensusNum', 'HorizSpStdDev', 'wComponent', 'height', 'VertSpStdDev']\n",
      "10\n",
      "getParameters is ['vComponent', 'uComponent', 'peakPower', 'levelMode', 'uvQualityCode', 'consensusNum', 'HorizSpStdDev', 'wComponent', 'height', 'VertSpStdDev']\n",
      "10\n",
      "getParameters is ['vComponent', 'uComponent', 'peakPower', 'levelMode', 'uvQualityCode', 'consensusNum', 'HorizSpStdDev', 'wComponent', 'height', 'VertSpStdDev']\n",
      "10\n",
      "getParameters is ['vComponent', 'uComponent', 'peakPower', 'levelMode', 'uvQualityCode', 'consensusNum', 'HorizSpStdDev', 'wComponent', 'height', 'VertSpStdDev']\n",
      "10\n",
      "getParameters is ['vComponent', 'uComponent', 'peakPower', 'levelMode', 'uvQualityCode', 'consensusNum', 'HorizSpStdDev', 'wComponent', 'height', 'VertSpStdDev']\n",
      "10\n",
      "getParameters is ['vComponent', 'uComponent', 'peakPower', 'levelMode', 'uvQualityCode', 'consensusNum', 'HorizSpStdDev', 'wComponent', 'height', 'VertSpStdDev']\n",
      "10\n",
      "getParameters is ['vComponent', 'uComponent', 'peakPower', 'levelMode', 'uvQualityCode', 'consensusNum', 'HorizSpStdDev', 'wComponent', 'height', 'VertSpStdDev']\n",
      "10\n",
      "getParameters is ['vComponent', 'uComponent', 'peakPower', 'levelMode', 'uvQualityCode', 'consensusNum', 'HorizSpStdDev', 'wComponent', 'height', 'VertSpStdDev']\n",
      "10\n",
      "getParameters is ['vComponent', 'uComponent', 'peakPower', 'levelMode', 'uvQualityCode', 'consensusNum', 'HorizSpStdDev', 'wComponent', 'height', 'VertSpStdDev']\n",
      "10\n",
      "getParameters is ['vComponent', 'uComponent', 'peakPower', 'levelMode', 'uvQualityCode', 'consensusNum', 'HorizSpStdDev', 'wComponent', 'height', 'VertSpStdDev']\n",
      "10\n",
      "getParameters is ['numProfLvls', 'elevation', 'windDirSfc', 'validTime', 'windSpeedSfc', 'pressure', 'submode', 'relHumidity', 'profilerId', 'rainRate', 'temperature']\n",
      "11\n"
     ]
    }
   ],
   "source": [
    "MULTI_DIM_PARAMS = set(['vComponent', 'uComponent', 'peakPower', \n",
    "                            'levelMode', 'uvQualityCode', 'consensusNum', \n",
    "                            'HorizSpStdDev', 'wComponent', 'height', \n",
    "                            'VertSpStdDev'])\n",
    "\n",
    "request = DataAccessLayer.newDataRequest(\"profiler\")\n",
    "request.setParameters('numProfLvls', 'elevation', 'windDirSfc', 'validTime', \n",
    "                  'windSpeedSfc', 'pressure', 'submode', 'relHumidity', \n",
    "                  'profilerId', 'rainRate', 'temperature')\n",
    "request.getParameters().extend(MULTI_DIM_PARAMS)\n",
    "\n",
    "datatimes = DataAccessLayer.getAvailableTimes(request)\n",
    "time = datatimes[-1].validPeriod\n",
    "\n",
    "response = DataAccessLayer.getGeometryData(request,times=time)\n",
    "print response\n",
    "for ob in response:\n",
    "    print \"getParameters is\",ob.getParameters()\n",
    "    print len(ob.getParameters())"
   ]
  },
  {
   "cell_type": "markdown",
   "metadata": {},
   "source": [
    "## ACARS"
   ]
  },
  {
   "cell_type": "code",
   "execution_count": 32,
   "metadata": {
    "collapsed": false
   },
   "outputs": [
    {
     "name": "stdout",
     "output_type": "stream",
     "text": [
      "[<awips.dataaccess.PyGeometryData.PyGeometryData object at 0x7f1b30196dd0>]\n",
      "getParameters is ['flightPhase', 'icing', 'temp', 'humidity', 'pressure', 'windSpeed', 'receiver', 'mixingRatio', 'windDirection', 'rollAngleQuality', 'tailNumber']\n",
      "11\n"
     ]
    }
   ],
   "source": [
    "request = DataAccessLayer.newDataRequest(\"acars\")\n",
    "request.setParameters(\"tailNumber\", \"receiver\", \"pressure\", \"flightPhase\", \n",
    "                  \"rollAngleQuality\", \"temp\", \"windDirection\", \"windSpeed\",\n",
    "                  \"humidity\", \"mixingRatio\", \"icing\")\n",
    "datatimes = DataAccessLayer.getAvailableTimes(request)\n",
    "time = datatimes[-1].validPeriod\n",
    "\n",
    "response = DataAccessLayer.getGeometryData(request,times=time)\n",
    "print response\n",
    "for ob in response:\n",
    "    print \"getParameters is\",ob.getParameters()\n",
    "    print len(ob.getParameters())"
   ]
  },
  {
   "cell_type": "markdown",
   "metadata": {},
   "source": [
    "## AIREP"
   ]
  },
  {
   "cell_type": "code",
   "execution_count": 33,
   "metadata": {
    "collapsed": false
   },
   "outputs": [
    {
     "name": "stdout",
     "output_type": "stream",
     "text": [
      "[<awips.dataaccess.PyGeometryData.PyGeometryData object at 0x7f1b3044f6d0>]\n",
      "getParameters is ['flightWeather', 'flightHazard', 'flightConditions', 'windSpeed', 'flightLevel', 'id']\n",
      "6\n"
     ]
    }
   ],
   "source": [
    "request = DataAccessLayer.newDataRequest(\"airep\")\n",
    "request.setParameters(\"id\", \"flightLevel\", \"temp\", \"windDirection\", \"windSpeed\",\n",
    "                  \"flightWeather\", \"flightHazard\", \"flightConditions\")\n",
    "\n",
    "datatimes = DataAccessLayer.getAvailableTimes(request)\n",
    "time = datatimes[-1].validPeriod\n",
    "\n",
    "response = DataAccessLayer.getGeometryData(request,times=time)\n",
    "print response\n",
    "for ob in response:\n",
    "    print \"getParameters is\",ob.getParameters()\n",
    "    print len(ob.getParameters())"
   ]
  },
  {
   "cell_type": "markdown",
   "metadata": {},
   "source": [
    "## PIREP"
   ]
  },
  {
   "cell_type": "code",
   "execution_count": 34,
   "metadata": {
    "collapsed": false
   },
   "outputs": [
    {
     "name": "stdout",
     "output_type": "stream",
     "text": [
      "[<awips.dataaccess.PyGeometryData.PyGeometryData object at 0x7f1b301a2210>, <awips.dataaccess.PyGeometryData.PyGeometryData object at 0x7f1b301a2510>]\n",
      "getParameters is ['skyTopHeight', 'skyBaseHeight', 'turbTopHeight', 'iceBaseHeight', 'skyCover1', 'turbBaseHeight', 'iceType', 'iceTopHeight', 'turbType', 'hazardType', 'skyCover2']\n",
      "11\n",
      "getParameters is ['horzVisibility', 'weatherGroup', 'windSpeed', 'aircraftType', 'flightLevel', 'id']\n",
      "6\n"
     ]
    }
   ],
   "source": [
    "MULTI_DIM_PARAMS = set([\"hazardType\", \n",
    "                        \"turbType\", \"turbBaseHeight\", \"turbTopHeight\",\n",
    "                        \"iceType\", \"iceBaseHeight\", \"iceTopHeight\",\n",
    "                        \"skyCover1\", \"skyCover2\", \"skyBaseHeight\", \"skyTopHeight\"\n",
    "                        ])\n",
    "    \n",
    "request = DataAccessLayer.newDataRequest(\"pirep\")\n",
    "request.setParameters('id', 'flightLevel', 'temp', 'windDirection', 'windSpeed',\n",
    "                  'horzVisibility', 'aircraftType', 'weatherGroup')\n",
    "request.getParameters().extend(MULTI_DIM_PARAMS)\n",
    "\n",
    "datatimes = DataAccessLayer.getAvailableTimes(request)\n",
    "time = datatimes[-1].validPeriod\n",
    "\n",
    "response = DataAccessLayer.getGeometryData(request,times=time)\n",
    "print response\n",
    "for ob in response:\n",
    "    print \"getParameters is\",ob.getParameters()\n",
    "    print len(ob.getParameters())"
   ]
  },
  {
   "cell_type": "code",
   "execution_count": null,
   "metadata": {
    "collapsed": true
   },
   "outputs": [],
   "source": []
  }
 ],
 "metadata": {
  "kernelspec": {
   "display_name": "Python 2",
   "language": "python",
   "name": "python2"
  },
  "language_info": {
   "codemirror_mode": {
    "name": "ipython",
    "version": 2
   },
   "file_extension": ".py",
   "mimetype": "text/x-python",
   "name": "python",
   "nbconvert_exporter": "python",
   "pygments_lexer": "ipython2",
   "version": "2.7.9"
  }
 },
 "nbformat": 4,
 "nbformat_minor": 0
}
