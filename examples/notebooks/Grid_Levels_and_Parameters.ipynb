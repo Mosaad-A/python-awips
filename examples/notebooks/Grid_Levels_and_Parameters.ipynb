{
 "cells": [
  {
   "cell_type": "markdown",
   "metadata": {},
   "source": [
    "<a name=\"top\"></a>\n",
    "<div style=\"width:1000 px\">\n",
    "\n",
    "<div style=\"float:right; width:98 px; height:98px;\">\n",
    "<img src=\"https://docs.unidata.ucar.edu/images/logos/unidata_logo_vertical_150x150.png\" alt=\"Unidata Logo\" style=\"height: 98px;\">\n",
    "</div>\n",
    "\n",
    "# Grid Levels and Parameters\n",
    "**Python-AWIPS Tutorial Notebook**\n",
    "\n",
    "<div style=\"clear:both\"></div>\n",
    "</div>\n",
    "\n",
    "---\n",
    "\n",
    "\n",
    "# Objectives\n",
    "\n",
    "* Cover the relevant methods for accessing EDEX and investigating what data is available.  \n",
    "* This example we look at the \"grid\" data type and investigate the Global Forcast System (GFS) model.  \n",
    "* We will talk quite a bit about the **DataAccessLayer** utility, and its [online documentation](http://unidata.github.io/python-awips/api/DataAccessLayer.html#) might be a helpful reference.\n",
    "\n",
    "---"
   ]
  },
  {
   "cell_type": "markdown",
   "metadata": {
    "toc": true
   },
   "source": [
    "<h1>Table of Contents<span class=\"tocSkip\"></span></h1>\n",
    "<div class=\"toc\"><ul class=\"toc-item\"><li><span><a href=\"#Imports\" data-toc-modified-id=\"Imports-1\"><span class=\"toc-item-num\">1&nbsp;&nbsp;</span>Imports</a></span></li><li><span><a href=\"#Connect-to-EDEX\" data-toc-modified-id=\"Connect-to-EDEX-2\"><span class=\"toc-item-num\">2&nbsp;&nbsp;</span>Connect to EDEX</a></span></li><li><span><a href=\"#Get-a-List-of-Supported-Data-Types\" data-toc-modified-id=\"Get-a-List-of-Supported-Data-Types-3\"><span class=\"toc-item-num\">3&nbsp;&nbsp;</span>Get a List of Supported Data Types</a></span></li><li><span><a href=\"#Create-a-New-Data-Request-and-Set-the-Type\" data-toc-modified-id=\"Create-a-New-Data-Request-and-Set-the-Type-4\"><span class=\"toc-item-num\">4&nbsp;&nbsp;</span>Create a New Data Request and Set the Type</a></span></li><li><span><a href=\"#Get-Available-Locations\" data-toc-modified-id=\"Get-Available-Locations-5\"><span class=\"toc-item-num\">5&nbsp;&nbsp;</span>Get Available Locations</a></span></li><li><span><a href=\"#Get-Available-Parameters\" data-toc-modified-id=\"Get-Available-Parameters-6\"><span class=\"toc-item-num\">6&nbsp;&nbsp;</span>Get Available Parameters</a></span></li><li><span><a href=\"#Get-Available-Levels\" data-toc-modified-id=\"Get-Available-Levels-7\"><span class=\"toc-item-num\">7&nbsp;&nbsp;</span>Get Available Levels</a></span></li><li><span><a href=\"#Get-Available-Times\" data-toc-modified-id=\"Get-Available-Times-8\"><span class=\"toc-item-num\">8&nbsp;&nbsp;</span>Get Available Times</a></span></li><li><span><a href=\"#Get-the-Data!\" data-toc-modified-id=\"Get-the-Data!-9\"><span class=\"toc-item-num\">9&nbsp;&nbsp;</span>Get the Data!</a></span></li><li><span><a href=\"#See-Also\" data-toc-modified-id=\"See-Also-10\"><span class=\"toc-item-num\">10&nbsp;&nbsp;</span>See Also</a></span><ul class=\"toc-item\"><li><span><a href=\"#Related-Notebooks\" data-toc-modified-id=\"Related-Notebooks-10.1\"><span class=\"toc-item-num\">10.1&nbsp;&nbsp;</span>Related Notebooks</a></span></li></ul></li></ul></div>"
   ]
  },
  {
   "cell_type": "markdown",
   "metadata": {},
   "source": [
    "## Imports\n",
    "\n",
    "Start by importing the DataAccessLayer package from python-awips:"
   ]
  },
  {
   "cell_type": "code",
   "execution_count": 2,
   "metadata": {},
   "outputs": [],
   "source": [
    "from awips.dataaccess import DataAccessLayer"
   ]
  },
  {
   "cell_type": "markdown",
   "metadata": {},
   "source": [
    "<a href=\"#top\">Top</a>\n",
    "\n",
    "---"
   ]
  },
  {
   "cell_type": "markdown",
   "metadata": {},
   "source": [
    "## Connect to EDEX\n",
    "\n",
    "Define a url for your EDEX connection, and then point python-awips at that EDEX"
   ]
  },
  {
   "cell_type": "code",
   "execution_count": 3,
   "metadata": {},
   "outputs": [],
   "source": [
    "# Unidata's cloud EDEX instance is used in this example\n",
    "edex_url = \"edex-cloud.unidata.ucar.edu\"\n",
    "DataAccessLayer.changeEDEXHost(edex_url)"
   ]
  },
  {
   "cell_type": "markdown",
   "metadata": {},
   "source": [
    "<a href=\"#top\">Top</a>\n",
    "\n",
    "---"
   ]
  },
  {
   "cell_type": "markdown",
   "metadata": {},
   "source": [
    "## Get a List of Supported Data Types\n",
    "\n",
    "[***DataAccessLayer.getSupportedDatatypes()***](http://unidata.github.io/python-awips/api/DataAccessLayer.html#awips.dataaccess.DataAccessLayer.getSupportedDatatypes) returns a list of supported data types offered by the EDEX server defined above. The code below shows how to populate, sort, and print out that list."
   ]
  },
  {
   "cell_type": "code",
   "execution_count": 4,
   "metadata": {},
   "outputs": [
    {
     "data": {
      "text/plain": [
       "['acars',\n",
       " 'airep',\n",
       " 'binlightning',\n",
       " 'bufrmosAVN',\n",
       " 'bufrmosETA',\n",
       " 'bufrmosGFS',\n",
       " 'bufrmosHPC',\n",
       " 'bufrmosLAMP',\n",
       " 'bufrmosMRF',\n",
       " 'bufrua',\n",
       " 'climate',\n",
       " 'common_obs_spatial',\n",
       " 'gfe',\n",
       " 'gfeEditArea',\n",
       " 'grid',\n",
       " 'maps',\n",
       " 'modelsounding',\n",
       " 'obs',\n",
       " 'pirep',\n",
       " 'practicewarning',\n",
       " 'profiler',\n",
       " 'radar',\n",
       " 'radar_spatial',\n",
       " 'satellite',\n",
       " 'sfcobs',\n",
       " 'topo',\n",
       " 'warning']"
      ]
     },
     "execution_count": 4,
     "metadata": {},
     "output_type": "execute_result"
    }
   ],
   "source": [
    "dataTypes = DataAccessLayer.getSupportedDatatypes()\n",
    "dataTypes.sort()\n",
    "list(dataTypes)"
   ]
  },
  {
   "cell_type": "markdown",
   "metadata": {},
   "source": [
    "<a href=\"#top\">Top</a>\n",
    "\n",
    "---"
   ]
  },
  {
   "cell_type": "markdown",
   "metadata": {},
   "source": [
    "## Create a New Data Request and Set the Type\n",
    "\n",
    "Now create a new data request using [***DataAccessLayer.newDataRequest()***](http://unidata.github.io/python-awips/api/DataAccessLayer.html#awips.dataaccess.DataAccessLayer.newDataRequest), and set the data type using [***request.setDatatype()***](http://unidata.github.io/python-awips/api/IDataRequest.html#awips.dataaccess.IDataRequest.setDatatype).  Below we create a few different requests with different data types to show some differences with other methods.\n",
    "\n",
    "For this example we are going to look at the \"grid\" data type, which is the model data can be found, along with some other datasets (such as MRMS)."
   ]
  },
  {
   "cell_type": "code",
   "execution_count": 5,
   "metadata": {},
   "outputs": [],
   "source": [
    "# Create a request for data type grid\n",
    "grid_request = DataAccessLayer.newDataRequest()\n",
    "grid_request.setDatatype(\"grid\")"
   ]
  },
  {
   "cell_type": "markdown",
   "metadata": {},
   "source": [
    "## Get Available Locations\n",
    "\n",
    "Use the [***DataAccessLayer.getAvailableLocationNames(request)***](http://unidata.github.io/python-awips/api/DataAccessLayer.html#awips.dataaccess.DataAccessLayer.getAvailableLocationNames) method to find out what locations are available for the given dataset.  Typically these will be geographic locations or NWS sites, although in some instances it will be something else.  Take a look at what's outputted for the grid_request, for example."
   ]
  },
  {
   "cell_type": "code",
   "execution_count": 6,
   "metadata": {},
   "outputs": [
    {
     "data": {
      "text/plain": [
       "['AUTOSPE',\n",
       " 'CMC',\n",
       " 'ESTOFS',\n",
       " 'ETSS',\n",
       " 'FFG-ALR',\n",
       " 'FFG-FWR',\n",
       " 'FFG-KRF',\n",
       " 'FFG-MSR',\n",
       " 'FFG-ORN',\n",
       " 'FFG-PTR',\n",
       " 'FFG-RHA',\n",
       " 'FFG-RSA',\n",
       " 'FFG-STR',\n",
       " 'FFG-TAR',\n",
       " 'FFG-TIR',\n",
       " 'FFG-TUA',\n",
       " 'FNMOC-NCODA',\n",
       " 'FNMOC-WW3',\n",
       " 'GFS1p0',\n",
       " 'GFS20',\n",
       " 'HFR-EAST_6KM',\n",
       " 'HFR-EAST_PR_6KM',\n",
       " 'HFR-US_EAST_DELAWARE_1KM',\n",
       " 'HFR-US_EAST_FLORIDA_2KM',\n",
       " 'HFR-US_EAST_NORTH_2KM',\n",
       " 'HFR-US_EAST_SOUTH_2KM',\n",
       " 'HFR-US_EAST_VIRGINIA_1KM',\n",
       " 'HFR-US_HAWAII_1KM',\n",
       " 'HFR-US_HAWAII_2KM',\n",
       " 'HFR-US_HAWAII_6KM',\n",
       " 'HFR-US_WEST_500M',\n",
       " 'HFR-US_WEST_CENCAL_2KM',\n",
       " 'HFR-US_WEST_LOSANGELES_1KM',\n",
       " 'HFR-US_WEST_LOSOSOS_1KM',\n",
       " 'HFR-US_WEST_NORTH_2KM',\n",
       " 'HFR-US_WEST_SANFRAN_1KM',\n",
       " 'HFR-US_WEST_SOCAL_2KM',\n",
       " 'HFR-US_WEST_WASHINGTON_1KM',\n",
       " 'HFR-WEST_6KM',\n",
       " 'HPCGuide',\n",
       " 'HPCqpfNDFD',\n",
       " 'HRRR',\n",
       " 'LAMP2p5',\n",
       " 'MRMS_0500',\n",
       " 'MRMS_1000',\n",
       " 'NAM12',\n",
       " 'NAM40',\n",
       " 'NOHRSC-SNOW',\n",
       " 'RAP13',\n",
       " 'RTMA',\n",
       " 'RTOFS-Now-WestAtl',\n",
       " 'RTOFS-Now-WestConus',\n",
       " 'RTOFS-WestAtl',\n",
       " 'RTOFS-WestConus',\n",
       " 'SPCGuide',\n",
       " 'SeaIce',\n",
       " 'TPCWindProb',\n",
       " 'URMA25',\n",
       " 'navgem0p5']"
      ]
     },
     "execution_count": 6,
     "metadata": {},
     "output_type": "execute_result"
    }
   ],
   "source": [
    "# Grid Locations\n",
    "grid_locations = DataAccessLayer.getAvailableLocationNames(grid_request)\n",
    "grid_locations.sort()\n",
    "list(grid_locations)"
   ]
  },
  {
   "cell_type": "markdown",
   "metadata": {},
   "source": [
    "<a href=\"#top\">Top</a>\n",
    "\n",
    "---"
   ]
  },
  {
   "cell_type": "markdown",
   "metadata": {},
   "source": [
    "## Get Available Parameters\n",
    "\n",
    "We're setting the \"location\" (in this case, what model we are interested in) to specify our request before we look at the available parameters.\n",
    "\n",
    "Take a look at the available parameters for the data set by using [***DataAccessLayer.getAvailableParameters(request)***](http://unidata.github.io/python-awips/api/DataAccessLayer.html#awips.dataaccess.DataAccessLayer.getAvailableParameters)"
   ]
  },
  {
   "cell_type": "code",
   "execution_count": 20,
   "metadata": {},
   "outputs": [
    {
     "data": {
      "text/plain": [
       "['T']"
      ]
     },
     "execution_count": 20,
     "metadata": {},
     "output_type": "execute_result"
    }
   ],
   "source": [
    "# Pick a model and set the location for the grid request -- we'll be using the Global Forecast System 20km (GFS20) \n",
    "grid_request.setLocationNames(\"GFS20\")\n",
    "grid_params = DataAccessLayer.getAvailableParameters(grid_request)\n",
    "grid_params.sort()\n",
    "list(grid_params)"
   ]
  },
  {
   "cell_type": "markdown",
   "metadata": {},
   "source": [
    "<a href=\"#top\">Top</a>\n",
    "\n",
    "---"
   ]
  },
  {
   "cell_type": "markdown",
   "metadata": {},
   "source": [
    "## Get Available Levels\n",
    "\n",
    "\n",
    "Setting the parameters is just an option, you do not need to filter the data if you do not wish to.  Also, although we are only setting one parameter in this example, you can set multiple parameters by using an array:\n",
    "```\n",
    "params = (\"param1\", \"param2\", \"param3\"...)\n",
    "request.setParameters(params)\n",
    "```\n",
    "\n",
    "Set a parameter, from the output above and take a look at what \"levels\" are available for the data set you're looking at using [***DataAccessLayer.getAvailableLevels(request)***](http://unidata.github.io/python-awips/api/DataAccessLayer.html#awips.dataaccess.DataAccessLayer.getAvailableLevels)."
   ]
  },
  {
   "cell_type": "markdown",
   "metadata": {},
   "source": [
    "<div class=\"alert-warning\">\n",
    "<b>Warning:</b>  Not all datasets support levels.  If you are trying this with another dataset and run into an exception (error), it's most likely because levels are not supported for that data type.\n",
    "</div> "
   ]
  },
  {
   "cell_type": "code",
   "execution_count": 21,
   "metadata": {},
   "outputs": [
    {
     "name": "stdout",
     "output_type": "stream",
     "text": [
      "0.0SFC\n"
     ]
    }
   ],
   "source": [
    "# For grid data we'll use the temperature parameter (\"T\")\n",
    "grid_request.setParameters(\"T\")\n",
    "grid_levels = DataAccessLayer.getAvailableLevels(grid_request)\n",
    "for lvl in grid_levels:\n",
    "    print(lvl)"
   ]
  },
  {
   "cell_type": "markdown",
   "metadata": {},
   "source": [
    "<div class=\"alert-info\">\n",
    "<b>Note:</b> 0.0SFC is the Surface level\n",
    "</div>"
   ]
  },
  {
   "cell_type": "code",
   "execution_count": 23,
   "metadata": {},
   "outputs": [],
   "source": [
    "# We'll set the level to surface level\n",
    "grid_request.setLevels(\"0.0SFC\")"
   ]
  },
  {
   "cell_type": "markdown",
   "metadata": {},
   "source": [
    "<a href=\"#top\">Top</a>\n",
    "\n",
    "---"
   ]
  },
  {
   "cell_type": "markdown",
   "metadata": {},
   "source": [
    "## Get Available Times\n",
    "\n",
    "Take a look at what time options are available for the data you're looking at using the [***DataAccessLayer.getAvailableTimes()***](http://unidata.github.io/python-awips/api/DataAccessLayer.html#awips.dataaccess.DataAccessLayer.getAvailableTimes) method:\n",
    "\n",
    "* **getAvailableTimes(request, True)** will return an object of *run times* - formatted as `YYYY-MM-DD HH:MM:SS`\n",
    "* **getAvailableTimes(request)** will return an object of all times - formatted as `YYYY-MM-DD HH:MM:SS (F:ff)`\n",
    "* **getForecastRun(cycle, times)** will return a DataTime array for a single forecast cycle."
   ]
  },
  {
   "cell_type": "code",
   "execution_count": 24,
   "metadata": {},
   "outputs": [
    {
     "name": "stdout",
     "output_type": "stream",
     "text": [
      "2021-06-01 12:00:00.000 : 0 seconds\n",
      "2021-06-01 12:00:00.000 : 10800 seconds\n",
      "2021-06-01 12:00:00.000 : 21600 seconds\n",
      "2021-06-01 12:00:00.000 : 32400 seconds\n",
      "2021-06-01 12:00:00.000 : 43200 seconds\n",
      "2021-06-01 12:00:00.000 : 54000 seconds\n",
      "2021-06-01 12:00:00.000 : 64800 seconds\n",
      "2021-06-01 12:00:00.000 : 75600 seconds\n",
      "2021-06-01 12:00:00.000 : 86400 seconds\n",
      "2021-06-01 12:00:00.000 : 97200 seconds\n",
      "2021-06-01 12:00:00.000 : 108000 seconds\n",
      "2021-06-01 12:00:00.000 : 118800 seconds\n",
      "2021-06-01 12:00:00.000 : 129600 seconds\n",
      "2021-06-01 12:00:00.000 : 140400 seconds\n",
      "2021-06-01 12:00:00.000 : 151200 seconds\n",
      "2021-06-01 12:00:00.000 : 162000 seconds\n",
      "2021-06-01 12:00:00.000 : 172800 seconds\n",
      "2021-06-01 12:00:00.000 : 183600 seconds\n",
      "2021-06-01 12:00:00.000 : 194400 seconds\n",
      "2021-06-01 12:00:00.000 : 205200 seconds\n",
      "2021-06-01 12:00:00.000 : 216000 seconds\n",
      "2021-06-01 12:00:00.000 : 226800 seconds\n",
      "2021-06-01 12:00:00.000 : 237600 seconds\n",
      "2021-06-01 12:00:00.000 : 248400 seconds\n",
      "2021-06-01 12:00:00.000 : 259200 seconds\n",
      "2021-06-01 12:00:00.000 : 270000 seconds\n",
      "2021-06-01 12:00:00.000 : 280800 seconds\n",
      "2021-06-01 12:00:00.000 : 291600 seconds\n",
      "2021-06-01 12:00:00.000 : 302400 seconds\n",
      "2021-06-01 12:00:00.000 : 324000 seconds\n",
      "2021-06-01 12:00:00.000 : 345600 seconds\n",
      "2021-06-01 12:00:00.000 : 367200 seconds\n",
      "2021-06-01 12:00:00.000 : 388800 seconds\n",
      "2021-06-01 12:00:00.000 : 410400 seconds\n",
      "2021-06-01 12:00:00.000 : 432000 seconds\n",
      "2021-06-01 12:00:00.000 : 453600 seconds\n",
      "2021-06-01 12:00:00.000 : 475200 seconds\n",
      "2021-06-01 12:00:00.000 : 496800 seconds\n",
      "2021-06-01 12:00:00.000 : 518400 seconds\n",
      "2021-06-01 12:00:00.000 : 540000 seconds\n",
      "2021-06-01 12:00:00.000 : 561600 seconds\n",
      "2021-06-01 12:00:00.000 : 583200 seconds\n",
      "2021-06-01 12:00:00.000 : 604800 seconds\n",
      "2021-06-01 12:00:00.000 : 626400 seconds\n",
      "2021-06-01 12:00:00.000 : 648000 seconds\n",
      "2021-06-01 12:00:00.000 : 669600 seconds\n",
      "2021-06-01 12:00:00.000 : 691200 seconds\n",
      "2021-06-01 12:00:00.000 : 712800 seconds\n",
      "2021-06-01 12:00:00.000 : 734400 seconds\n",
      "2021-06-01 12:00:00.000 : 756000 seconds\n",
      "2021-06-01 12:00:00.000 : 777600 seconds\n",
      "2021-06-01 12:00:00.000 : 799200 seconds\n",
      "2021-06-01 12:00:00.000 : 820800 seconds\n"
     ]
    }
   ],
   "source": [
    "# Available grid times\n",
    "grid_cycles = DataAccessLayer.getAvailableTimes(grid_request, True)\n",
    "grid_times = DataAccessLayer.getAvailableTimes(grid_request)\n",
    "## Using -1 in an array will access the last element of the array \n",
    "##  (using -2 will access the second last element, and so on)\n",
    "grid_fcstRun = DataAccessLayer.getForecastRun(grid_cycles[-1], grid_times)\n",
    "\n",
    "## print out the time instances\n",
    "times = []\n",
    "for fcst in grid_fcstRun:\n",
    "    print(fcst.getRefTime(), ':', fcst.getFcstTime(), 'seconds')"
   ]
  },
  {
   "cell_type": "markdown",
   "metadata": {},
   "source": [
    "<a href=\"#top\">Top</a>\n",
    "\n",
    "---"
   ]
  },
  {
   "cell_type": "markdown",
   "metadata": {},
   "source": [
    "## Get the Data!\n",
    "\n",
    "Now that we have our `request` and DataTime `fcstRun` arrays ready, it's time to request the data array from EDEX.  Depending on what kind of data we're working with, we'll either use [***DataAccessLayer.getGridData()***](http://unidata.github.io/python-awips/api/DataAccessLayer.html#awips.dataaccess.DataAccessLayer.getGridData) or [***DataAccessLayer.getGeometryData()***](http://unidata.github.io/python-awips/api/DataAccessLayer.html#awips.dataaccess.DataAccessLayer.getGeometryData)"
   ]
  },
  {
   "cell_type": "markdown",
   "metadata": {},
   "source": [
    "<div class=\"alert-info\">\n",
    "<b>Note:</b> We have more, detailed notebooks about how analyze and visualize the data once you have what you want.\n",
    "</div>"
   ]
  },
  {
   "cell_type": "code",
   "execution_count": 25,
   "metadata": {},
   "outputs": [
    {
     "name": "stdout",
     "output_type": "stream",
     "text": [
      "Time : 2021-06-01 12:00:00 - 820800 seconds\n",
      "Model: GFS20\n",
      "Parm : T\n",
      "Unit : K\n",
      "(257, 369)\n"
     ]
    }
   ],
   "source": [
    "## Grid Data\n",
    "grid_response = DataAccessLayer.getGridData(grid_request, [grid_fcstRun[-1]])\n",
    "for grid in grid_response:\n",
    "    grid_data = grid.getRawData()\n",
    "    lons, lats = grid.getLatLonCoords()\n",
    "    print('Time :', grid.getDataTime(), \"-\", grid.getDataTime().getFcstTime(), 'seconds')\n",
    "\n",
    "## Take a look at some information in our data\n",
    "print('Model:', str(grid.getLocationName()))\n",
    "print('Parm :', str(grid.getParameter()))\n",
    "print('Unit :', str(grid.getUnit()))\n",
    "print(grid_data.shape)"
   ]
  },
  {
   "cell_type": "markdown",
   "metadata": {},
   "source": [
    "## See Also\n",
    "\n",
    "Several functions are used throughout this notebook from the DataAccessLayer class in python-awips, to see full documentation for these functions vist [**here**](http://unidata.github.io/python-awips/api/DataAccessLayer.html#).\n",
    "\n",
    "### Related Notebooks\n",
    "\n",
    "* [python-awips: Working with Surface Obs](https://nbviewer.jupyter.org/github/Unidata/pyaos-ams-2021/blob/master/notebooks/visualization/python-awips-WorkingWithSurfaceObs.ipynb)\n",
    "* [python-awips: Working with Models](https://nbviewer.jupyter.org/github/Unidata/pyaos-ams-2021/blob/master/notebooks/visualization/python-awips-WorkingWithModels.ipynb)\n",
    "* [python-awips: Working with Satellite Data](https://nbviewer.jupyter.org/github/Unidata/pyaos-ams-2021/blob/master/notebooks/visualization/python-awips-WorkingWithSatelliteData.ipynb)\n",
    "* [python-awips: Working with Upper Air Obs](https://nbviewer.jupyter.org/github/Unidata/pyaos-ams-2021/blob/master/notebooks/visualization/python-awips-WorkingWithUpperAirObs.ipynb)\n",
    "* [python-awips: Working with Maps and Topography Databases](https://nbviewer.jupyter.org/github/Unidata/pyaos-ams-2021/blob/master/notebooks/visualization/python-awips-WorkingWithMapsTopoDatabases.ipynb)"
   ]
  },
  {
   "cell_type": "markdown",
   "metadata": {},
   "source": [
    "<a href=\"#top\">Top</a>\n",
    "\n",
    "---"
   ]
  }
 ],
 "metadata": {
  "kernelspec": {
   "display_name": "Python 3",
   "language": "python",
   "name": "python3"
  },
  "language_info": {
   "codemirror_mode": {
    "name": "ipython",
    "version": 3
   },
   "file_extension": ".py",
   "mimetype": "text/x-python",
   "name": "python",
   "nbconvert_exporter": "python",
   "pygments_lexer": "ipython3",
   "version": "3.9.2"
  },
  "toc": {
   "base_numbering": 1,
   "nav_menu": {},
   "number_sections": true,
   "sideBar": true,
   "skip_h1_title": true,
   "title_cell": "Table of Contents",
   "title_sidebar": "Contents",
   "toc_cell": true,
   "toc_position": {},
   "toc_section_display": true,
   "toc_window_display": true
  }
 },
 "nbformat": 4,
 "nbformat_minor": 4
}
